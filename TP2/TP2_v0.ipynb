{
 "cells": [
  {
   "cell_type": "markdown",
   "metadata": {
    "id": "9MFMKIgm6Xpr"
   },
   "source": [
    "# Vision Transformer (ViT)\n",
    "\n",
    "El Vision Transformer (ViT), propuesto por Dosovitskiy et al. (2020), utiliza una arquitectura basada en Transformers para tareas de visión por computadora. A diferencia de las CNN, el ViT aplica **Multi-Head Self-Attention (MHSA)** para modelar relaciones globales entre partes de la imagen.\n",
    "\n",
    "## Arquitectura\n",
    "\n",
    "El ViT divide las imágenes en **patches** y las convierte en una secuencia de vectores de características (embeddings), que luego se procesan mediante capas Transformer. A continuación, se aplica el mecanismo de self-attention para modelar las relaciones entre estos patches.\n",
    "\n",
    "- **Embeddings**: Cada parche se aplana y se proyecta en un espacio de mayor dimensión.\n",
    "- **Positional Encoding**: Se agrega un embebido posicional para cada parche, permitiendo que el modelo capture las posiciones espaciales.\n",
    "---\n",
    "## ¿Cómo funciona el Self-Attention en ViT?\n",
    "\n",
    "Cada uno de los parches se considera un token similar a las palabras en el procesamiento del lenguaje natural (NLP).\n",
    "En el mecanismo de Self-Attention, cada uno de estos tokens (parches) puede interactuar con los demás tokens. Para hacerlo, el modelo calcula tres vectores para cada token:\n",
    "\n",
    "- **Query:** Representa qué está buscando el token.\n",
    "\n",
    "- **Key:** Representa una descripción de los demás tokens.\n",
    "\n",
    "- **Value:** Es la información que tiene cada token y que podría ser relevante para otros tokens.\n",
    "\n",
    "Luego, se calculan las similitudes entre el *Query* de un token y el *Key* de todos los demás tokens, lo que genera una \"puntuación de atención\". Esta puntuación determina cuánta atención debe prestar un token a otros. El valor *Value* de cada token se pondera según esta puntuación, lo que permite que un token integre información de todo el resto de la imagen.\n",
    "\n",
    "Este mecanismo es lo que permite que cada token (parche) en una imagen entienda no solo lo que está ocurriendo en su área local, sino también pueda considerar qué está sucediendo en otras partes de la imagen.\n",
    "\n",
    "La fórmula utilizada para calcular la atención es:\n",
    "\n",
    "$$\n",
    "\\text{Attention}(Q, K, V) = \\text{softmax}\\left(\\frac{QK^T}{\\sqrt{d_k}}\\right)V\n",
    "$$\n",
    "\n",
    "Donde:\n",
    "- **$Q$ (queries)**, **$K$ (keys)**, y **$V$ (values)** son las proyecciones lineales de los embeddings de los patches.\n",
    "- **$d_k$** es la dimensionalidad de las proyecciones, usada para escalar el producto punto y estabilizar el entrenamiento.\n",
    "\n",
    "Este proceso se aplica en múltiples cabezas, lo que permite al modelo aprender distintas representaciones.\n",
    "\n",
    "El mecanismo de self-attention utiliza las proyecciones:\n",
    "\n",
    "$$Q = XW_Q, \\quad K = XW_K, \\quad V = XW_V$$\n",
    "\n",
    "Donde $X$ es el input y $W_Q$, $W_K$, y $W_V$ son matrices de pesos aprendidos.\n",
    "\n",
    "Después de aplicar el mecanismo de Self-Attention, los tokens se actualizan, ya que ahora tienen información de los demás tokens. Este proceso se repite varias veces en distintas capas de atención, profundizando la interacción entre los parches.\n",
    "\n",
    "Salida Final: Después de aplicar múltiples capas de Self-Attention, el modelo agrupa los tokens procesados para predecir la clase de la imagen o realizar otras tareas de visión.\n",
    "\n",
    "\n",
    "![Vision Transformer](vit_gif.gif)\n",
    "\n",
    "*Crédito: [lucidrains](https://github.com/lucidrains/vit-pytorch)*\n"
   ]
  },
  {
   "cell_type": "markdown",
   "metadata": {
    "id": "3N7aY0rk6Xpt"
   },
   "source": [
    "## Tareas:\n",
    "\n",
    "1. **Implementar la arquitectura de un Vision Transformer**\n",
    "\n",
    "2. **Ingresar y ajustar los parametros del modelo***\n",
    "\n",
    "3. **Probar diferentes técnicas de data augmentation**"
   ]
  },
  {
   "cell_type": "code",
   "execution_count": 1,
   "metadata": {
    "colab": {
     "base_uri": "https://localhost:8080/"
    },
    "executionInfo": {
     "elapsed": 14403,
     "status": "ok",
     "timestamp": 1747599857765,
     "user": {
      "displayName": "Juan Pablo Alianak",
      "userId": "15176005573402506761"
     },
     "user_tz": 180
    },
    "id": "xQ8Qswkq6Xpu",
    "outputId": "2756847c-48d3-437e-db81-025ae21180d2"
   },
   "outputs": [
    {
     "name": "stdout",
     "output_type": "stream",
     "text": [
      "Dispositivo:  cuda\n",
      "Torch version:  2.6.0+cu124\n"
     ]
    }
   ],
   "source": [
    "from sklearn.metrics import accuracy_score, precision_score, recall_score, f1_score\n",
    "from tqdm import tqdm\n",
    "import numpy as np\n",
    "import math\n",
    "import os\n",
    "import torch\n",
    "from torch import Tensor\n",
    "import torch.nn as nn\n",
    "import torchvision.transforms.functional as TF\n",
    "import matplotlib.pyplot as plt\n",
    "from PIL import Image\n",
    "import torch.optim as optim\n",
    "from torch.optim.lr_scheduler import StepLR\n",
    "import torch.nn.functional as F\n",
    "import torch\n",
    "from torchvision import datasets, transforms\n",
    "import torch._dynamo\n",
    "torch._dynamo.config.suppress_errors = True\n",
    "from trainer import Trainer\n",
    "\n",
    "\n",
    "\n",
    "device =  'cuda' if torch.cuda.is_available() else 'mps' if torch.backends.mps.is_available() else 'cpu'\n",
    "print('Dispositivo: ',device)\n",
    "print('Torch version: ',torch.__version__)\n",
    "\n",
    "# La configuración, carga y preprocesamiento\n",
    "class ConfigPreprocess:\n",
    "    def __init__(self, device: str, img_path: str, img_size: int, patch_size: int):\n",
    "        self.device = device\n",
    "        self.img_path = img_path\n",
    "        self.img_size = img_size\n",
    "        self.patch_size = patch_size\n",
    "        self.test_img = self.load_image()\n",
    "\n",
    "    def load_image(self):\n",
    "        return TF.to_tensor(Image.open(self.img_path).resize((self.img_size, self.img_size))).unsqueeze(0).to(self.device)\n",
    "\n",
    "    def extract_patches(self, image: Tensor) -> Tensor:\n",
    "        patches = image.unfold(1, self.patch_size, self.patch_size).unfold(2, self.patch_size, self.patch_size)\n",
    "        patches = patches.contiguous().view(image.shape[0], -1, self.patch_size, self.patch_size)\n",
    "        return patches\n",
    "\n",
    "\n",
    "class PatchEmbedding(nn.Module):\n",
    "    def __init__(self, img_size: int, patch_size: int, in_channels: int = 3, embed_dim: int = 8):\n",
    "        super(PatchEmbedding, self).__init__()\n",
    "        self.img_size = img_size\n",
    "        self.patch_size = patch_size\n",
    "        self.num_patches = (img_size // patch_size) ** 2\n",
    "        self.proj = nn.Conv2d(in_channels, embed_dim, kernel_size=patch_size, stride=patch_size)\n",
    "\n",
    "    def forward(self, x):\n",
    "        x = self.proj(x)  # (B, embed_dim, H/patch_size, W/patch_size)\n",
    "        x = x.flatten(2)  # (B, embed_dim, num_patches)\n",
    "        x = x.transpose(1, 2)  # (B, num_patches, embed_dim)\n",
    "        return x\n",
    "\n",
    "class PositionalEncodingLearned(nn.Module):\n",
    "    def __init__(self, num_patches, embed_dim):\n",
    "        super().__init__()\n",
    "        # Inicializa el embedding posicional con valores aleatorios\n",
    "        self.pos_embedding = nn.Parameter(torch.randn(1, num_patches, embed_dim))\n",
    "\n",
    "    def forward(self, x):\n",
    "        # x tiene forma [batch_size, num_patches, embed_dim]\n",
    "        return x + self.pos_embedding\n",
    "\n",
    "# Parámetros\n",
    "img_path = \"raccoon.jpg\"\n",
    "img_size = 900\n",
    "patch_size = 64\n",
    "embed_dim = 8\n",
    "patch_idx = 0  # El índice del parche para el cual queres visualiizar la codificación posicional\n",
    "\n",
    "# Preprocesamiento\n",
    "config = ConfigPreprocess(device,img_path, img_size, patch_size)\n",
    "\n",
    "# Extracción de parches y visualización\n",
    "patches = config.extract_patches(config.test_img.squeeze(0))\n",
    "\n",
    "# Generación de embeddings\n",
    "embedded_patches = PatchEmbedding(img_size, patch_size, 3, embed_dim).to(config.device)\n",
    "patches = embedded_patches(config.test_img)\n",
    "\n",
    "# Codificación posicional\n",
    "\n",
    "num_patches = (img_size // patch_size) ** 2\n",
    "try:\n",
    "    positional_encoding = PositionalEncodingLearned(num_patches, embed_dim).to(config.device)\n",
    "    pos_embeddings = positional_encoding(patches)\n",
    "\n",
    "except Exception as e:\n",
    "    print(f\"Revise la existencia de la función PositionalEncodingLearned. Se produjo error durante la compilación: \\n {e}.\")\n"
   ]
  },
  {
   "cell_type": "markdown",
   "metadata": {
    "id": "NWmgZ9fS6Xpv"
   },
   "source": [
    "# Transformer Encoder"
   ]
  },
  {
   "cell_type": "code",
   "execution_count": 2,
   "metadata": {
    "executionInfo": {
     "elapsed": 28,
     "status": "ok",
     "timestamp": 1747599857796,
     "user": {
      "displayName": "Juan Pablo Alianak",
      "userId": "15176005573402506761"
     },
     "user_tz": 180
    },
    "id": "_NzqiBbg6Xpv"
   },
   "outputs": [],
   "source": [
    "class TransformerEncoder(nn.Module):\n",
    "    def __init__(self, embed_dim: int, num_heads: int, ff_dim: int, num_layers: int, dropout=0.1, batch_first=True):\n",
    "        super(TransformerEncoder, self).__init__()\n",
    "        encoder_layer = nn.TransformerEncoderLayer(d_model=embed_dim, nhead=num_heads, dim_feedforward=ff_dim, dropout=dropout,bias= False, batch_first=batch_first)\n",
    "        self.transformer_encoder = nn.TransformerEncoder(encoder_layer, num_layers=num_layers)\n",
    "\n",
    "    def forward(self, x):\n",
    "        return self.transformer_encoder(x)"
   ]
  },
  {
   "cell_type": "markdown",
   "metadata": {
    "id": "17ygbDkQ6Xpw"
   },
   "source": [
    "# Vision Transformer\n",
    "Model\n",
    ">\n",
    "```ViT-Base ViT-Large ViT-Huge\n",
    "    Layers Hidden size D 12 768\n",
    "    24 1024 32 1280\n",
    "    MLP size Heads\n",
    "    Params\n",
    "    3072 12 86M 4096 16 307M 5120 16 632M\n",
    "```\n"
   ]
  },
  {
   "cell_type": "code",
   "execution_count": 3,
   "metadata": {
    "executionInfo": {
     "elapsed": 27,
     "status": "ok",
     "timestamp": 1747599857823,
     "user": {
      "displayName": "Juan Pablo Alianak",
      "userId": "15176005573402506761"
     },
     "user_tz": 180
    },
    "id": "rYIafs9G6Xpw"
   },
   "outputs": [],
   "source": [
    "class VisionTransformer(nn.Module):\n",
    "    def __init__(self, img_size, patch_size, embed_dim, num_heads, ff_dim, num_layers, dropout=0.1, num_classes=10, batch_first=True):\n",
    "        super(VisionTransformer, self).__init__()\n",
    "\n",
    "        self.patch_embed = PatchEmbedding(img_size, patch_size, in_channels=3, embed_dim=embed_dim)\n",
    "        self.num_patches = self.patch_embed.num_patches\n",
    "\n",
    "        self.cls_token = nn.Parameter(torch.randn(1, 1, embed_dim))\n",
    "        self.pos_embedding = PositionalEncodingLearned(self.num_patches + 1, embed_dim)\n",
    "\n",
    "        self.encoder = TransformerEncoder(embed_dim, num_heads, ff_dim, num_layers, dropout)\n",
    "\n",
    "        self.norm = nn.LayerNorm(embed_dim)\n",
    "        self.head = nn.Linear(embed_dim, num_classes)\n",
    "\n",
    "    def forward(self, x):\n",
    "        B = x.size(0)\n",
    "        x = self.patch_embed(x)  # (B, num_patches, embed_dim)\n",
    "\n",
    "\n",
    "        cls_tokens = self.cls_token.expand(B, -1, -1)  # (B, 1, embed_dim)\n",
    "        x = torch.cat((cls_tokens, x), dim=1)  # (B, num_patches + 1, embed_dim)\n",
    "\n",
    "        x = self.pos_embedding(x)\n",
    "        x = self.encoder(x)\n",
    "        x = self.norm(x)\n",
    "\n",
    "        cls_output = x[:, 0]  # (B, embed_dim)\n",
    "        logits = self.head(cls_output)  # (B, num_classes)\n",
    "        return logits"
   ]
  },
  {
   "cell_type": "markdown",
   "metadata": {
    "id": "YBPm5Vuj6Xpw"
   },
   "source": [
    "# CIFAR10"
   ]
  },
  {
   "cell_type": "code",
   "execution_count": 4,
   "metadata": {
    "colab": {
     "base_uri": "https://localhost:8080/"
    },
    "executionInfo": {
     "elapsed": 17877,
     "status": "ok",
     "timestamp": 1747599878635,
     "user": {
      "displayName": "Juan Pablo Alianak",
      "userId": "15176005573402506761"
     },
     "user_tz": 180
    },
    "id": "q4FSxBWw6Xpw",
    "outputId": "6613d3dc-de2e-4bee-9626-1c261d274e2f"
   },
   "outputs": [
    {
     "name": "stderr",
     "output_type": "stream",
     "text": [
      "100%|██████████| 170M/170M [00:13<00:00, 13.1MB/s]\n"
     ]
    }
   ],
   "source": [
    "\n",
    "# Define transformations for the input data\n",
    "transform = transforms.Compose([\n",
    "    transforms.ToTensor(),\n",
    "    transforms.Normalize([0.49139968, 0.48215841, 0.44653091], [0.24703223, 0.24348513, 0.26158784]),\n",
    "])\n",
    "\n",
    "# Load your dataset\n",
    "train_dataset = datasets.CIFAR10(root='./data', train=True, download=True, transform=transform)\n",
    "train_loader = torch.utils.data.DataLoader(train_dataset, batch_size=512, shuffle=True)\n",
    "\n",
    "test_dataset = datasets.CIFAR10(root='./data', train=False, download=True, transform=transform)\n",
    "test_loader = torch.utils.data.DataLoader(test_dataset, batch_size=512, shuffle=True)"
   ]
  },
  {
   "cell_type": "code",
   "execution_count": 5,
   "metadata": {
    "colab": {
     "base_uri": "https://localhost:8080/"
    },
    "executionInfo": {
     "elapsed": 29,
     "status": "ok",
     "timestamp": 1747599878659,
     "user": {
      "displayName": "Juan Pablo Alianak",
      "userId": "15176005573402506761"
     },
     "user_tz": 180
    },
    "id": "jQCgBs0s6Xpx",
    "outputId": "1aec9ed4-3190-4d1f-c33d-5ccb425f61d9"
   },
   "outputs": [
    {
     "name": "stdout",
     "output_type": "stream",
     "text": [
      "Tamaño de carpeta: 340.19 MB\n"
     ]
    }
   ],
   "source": [
    "def get_folder_size(folder_path :os.PathLike) -> str:\n",
    "    total_size = 0\n",
    "    for dirpath, _, filenames in os.walk(folder_path):\n",
    "        for filename in filenames:\n",
    "            file_path = os.path.join(dirpath, filename)\n",
    "\n",
    "            if not os.path.islink(file_path):\n",
    "                total_size += os.path.getsize(file_path)\n",
    "\n",
    "    if total_size == 0:\n",
    "        return \"0B\"\n",
    "    size_name = (\"B\", \"KB\", \"MB\", \"GB\", \"TB\")\n",
    "    i = int(math.floor(math.log(total_size, 1024)))\n",
    "    p = math.pow(1024, i)\n",
    "    s = round(total_size / p, 2)\n",
    "    return f\"{s} {size_name[i]}\"\n",
    "\n",
    "\n",
    "folder_path = './data'\n",
    "size_in_bytes = get_folder_size(folder_path)\n",
    "print(f\"Tamaño de carpeta: {size_in_bytes}\")"
   ]
  },
  {
   "cell_type": "markdown",
   "metadata": {
    "id": "DkjbabT-6Xpx"
   },
   "source": [
    "# Modelo"
   ]
  },
  {
   "cell_type": "code",
   "execution_count": 6,
   "metadata": {
    "colab": {
     "base_uri": "https://localhost:8080/"
    },
    "executionInfo": {
     "elapsed": 4664,
     "status": "ok",
     "timestamp": 1747599884539,
     "user": {
      "displayName": "Juan Pablo Alianak",
      "userId": "15176005573402506761"
     },
     "user_tz": 180
    },
    "id": "Bae5ZS5L6Xpx",
    "outputId": "c8a99a0d-9f53-4562-b607-e8af515f123c"
   },
   "outputs": [
    {
     "name": "stderr",
     "output_type": "stream",
     "text": [
      "/usr/local/lib/python3.11/dist-packages/torch/nn/modules/transformer.py:385: UserWarning: enable_nested_tensor is True, but self.use_nested_tensor is False because encoder_layer.self_attn was passed bias=False\n",
      "  warnings.warn(\n"
     ]
    },
    {
     "name": "stdout",
     "output_type": "stream",
     "text": [
      "Parametros del modelo: [Parameter containing:\n",
      "tensor([[[ 0.2236,  1.2240, -1.0663, -1.0602,  0.5169,  0.7864,  0.1417,\n",
      "          -0.2975,  0.2701,  1.5117,  0.0214,  0.7738, -0.0575, -0.9771,\n",
      "          -0.4141, -0.9322, -0.8161,  1.2345, -0.2909,  0.9364,  0.2609,\n",
      "          -0.0046,  1.5912,  0.4498,  0.1428,  2.0401,  0.0499, -0.1034,\n",
      "          -1.2564, -0.7846,  0.7908, -0.5446, -1.4166, -0.7925,  0.4573,\n",
      "          -0.7208, -0.4626,  1.5907,  0.9202,  0.0244,  1.4293, -1.1846,\n",
      "          -1.1586,  0.3268, -1.4552, -0.2487,  1.7199,  0.2807,  2.0260,\n",
      "           1.2311,  0.3409, -0.9144, -0.4977,  0.1839,  0.8204, -0.1207,\n",
      "          -0.4116, -0.8045,  1.4568, -0.0750, -0.2681,  1.1353, -1.7224,\n",
      "           0.9942,  0.6514, -1.3398,  0.7406,  0.6856, -0.6246, -0.2800,\n",
      "           0.7782,  1.8786,  0.0748, -0.2820, -0.7418,  0.5114,  1.0798,\n",
      "          -0.2815, -0.8075,  0.1134,  1.2862,  1.7773, -1.8070,  0.0463,\n",
      "           0.0858, -0.0850,  0.1145, -0.0944,  1.8934,  0.4782,  0.6261,\n",
      "          -1.1278,  0.2086, -1.0513, -0.5855,  0.0422, -1.3970,  0.1279,\n",
      "           0.9842, -1.0072,  0.3195,  0.5524,  1.1896,  1.6950, -0.2552,\n",
      "           1.9209, -0.1478, -0.3442, -0.6925,  1.0053,  1.0272, -0.8257,\n",
      "           0.4323, -2.0063,  1.5911,  0.2152, -1.1655, -0.0332, -0.7601,\n",
      "           0.9208, -0.5516,  0.8302,  1.5656, -1.0675, -0.9462, -1.1656,\n",
      "          -1.1824, -0.4543,  0.3146,  0.1501,  0.0433,  0.6537, -0.1551,\n",
      "          -0.2266,  0.8539, -0.1086, -0.2885,  2.2794,  0.8611,  0.8573,\n",
      "           0.6620,  0.0547, -0.2027,  2.3483, -0.9452, -0.5346, -0.1443,\n",
      "           0.3705,  0.5604,  0.6726,  0.0032, -0.3179, -0.9084, -0.1424,\n",
      "           1.7806, -0.1125, -0.8502,  0.8297, -1.6241, -0.6670,  0.2100,\n",
      "          -0.6914, -0.1050, -1.7153,  1.5333,  0.9514, -1.4065,  1.7088,\n",
      "           0.8995, -1.0966,  0.4658,  0.0332,  0.6343,  1.1857,  1.8521,\n",
      "          -0.5556, -0.6890,  0.0144, -0.8572,  1.0801, -1.1627,  1.0090,\n",
      "           2.8519, -1.7354,  1.0205,  0.1547,  0.3009, -1.2497, -0.8327,\n",
      "          -0.0702, -0.5997, -0.2662]]], device='cuda:0', requires_grad=True), Parameter containing:\n",
      "tensor([[[[ 0.0688, -0.0611,  0.0390,  ...,  0.0172,  0.0529,  0.0331],\n",
      "          [ 0.0378, -0.0337, -0.0571,  ..., -0.0051, -0.0507,  0.0482],\n",
      "          [-0.0005, -0.0107,  0.0617,  ..., -0.0141,  0.0391, -0.0124],\n",
      "          ...,\n",
      "          [ 0.0401, -0.0246, -0.0584,  ...,  0.0414,  0.0538, -0.0117],\n",
      "          [-0.0183, -0.0313,  0.0543,  ..., -0.0443,  0.0439, -0.0176],\n",
      "          [-0.0667,  0.0418, -0.0622,  ..., -0.0177, -0.0455,  0.0626]],\n",
      "\n",
      "         [[-0.0687, -0.0299, -0.0081,  ...,  0.0721, -0.0530, -0.0403],\n",
      "          [ 0.0647, -0.0716,  0.0516,  ..., -0.0046,  0.0518, -0.0517],\n",
      "          [-0.0612,  0.0331, -0.0371,  ..., -0.0369, -0.0333, -0.0128],\n",
      "          ...,\n",
      "          [ 0.0101, -0.0069, -0.0478,  ..., -0.0029,  0.0383,  0.0395],\n",
      "          [ 0.0390, -0.0715, -0.0179,  ...,  0.0386, -0.0050,  0.0165],\n",
      "          [ 0.0050,  0.0136, -0.0089,  ...,  0.0679, -0.0317, -0.0552]],\n",
      "\n",
      "         [[ 0.0506, -0.0618, -0.0696,  ..., -0.0645,  0.0326, -0.0209],\n",
      "          [ 0.0053,  0.0394, -0.0314,  ...,  0.0708, -0.0378, -0.0173],\n",
      "          [ 0.0018, -0.0321, -0.0056,  ..., -0.0583,  0.0541,  0.0262],\n",
      "          ...,\n",
      "          [ 0.0031, -0.0394,  0.0084,  ..., -0.0308,  0.0445, -0.0482],\n",
      "          [-0.0043,  0.0277, -0.0665,  ...,  0.0145, -0.0015,  0.0468],\n",
      "          [-0.0171,  0.0199, -0.0446,  ..., -0.0226,  0.0278, -0.0620]]],\n",
      "\n",
      "\n",
      "        [[[ 0.0211, -0.0579, -0.0407,  ..., -0.0483, -0.0326, -0.0439],\n",
      "          [-0.0132, -0.0486, -0.0533,  ..., -0.0625, -0.0668,  0.0320],\n",
      "          [ 0.0082, -0.0463, -0.0066,  ..., -0.0024, -0.0597, -0.0461],\n",
      "          ...,\n",
      "          [-0.0025, -0.0594,  0.0650,  ..., -0.0713,  0.0347, -0.0194],\n",
      "          [ 0.0420,  0.0472,  0.0152,  ..., -0.0569,  0.0075,  0.0247],\n",
      "          [-0.0214, -0.0446,  0.0275,  ...,  0.0336, -0.0578, -0.0045]],\n",
      "\n",
      "         [[ 0.0465, -0.0608,  0.0290,  ..., -0.0002, -0.0629,  0.0559],\n",
      "          [ 0.0332,  0.0517, -0.0083,  ...,  0.0315,  0.0227, -0.0522],\n",
      "          [ 0.0042, -0.0214, -0.0618,  ...,  0.0187,  0.0596, -0.0257],\n",
      "          ...,\n",
      "          [-0.0647, -0.0101, -0.0636,  ..., -0.0446,  0.0201, -0.0055],\n",
      "          [-0.0552,  0.0047, -0.0215,  ..., -0.0432, -0.0053, -0.0010],\n",
      "          [ 0.0228, -0.0414, -0.0128,  ...,  0.0596, -0.0044,  0.0341]],\n",
      "\n",
      "         [[ 0.0345,  0.0340,  0.0382,  ..., -0.0300,  0.0432,  0.0110],\n",
      "          [ 0.0680, -0.0337, -0.0565,  ...,  0.0026, -0.0193, -0.0048],\n",
      "          [-0.0551, -0.0694,  0.0379,  ..., -0.0057, -0.0082,  0.0119],\n",
      "          ...,\n",
      "          [ 0.0264,  0.0186, -0.0280,  ...,  0.0167,  0.0054, -0.0031],\n",
      "          [ 0.0371,  0.0210, -0.0523,  ..., -0.0388, -0.0509, -0.0622],\n",
      "          [-0.0635,  0.0205,  0.0209,  ...,  0.0452,  0.0412, -0.0272]]],\n",
      "\n",
      "\n",
      "        [[[-0.0168,  0.0604, -0.0427,  ...,  0.0384,  0.0436, -0.0687],\n",
      "          [ 0.0554, -0.0061,  0.0214,  ...,  0.0130, -0.0576, -0.0657],\n",
      "          [ 0.0049, -0.0597, -0.0130,  ..., -0.0019, -0.0190, -0.0193],\n",
      "          ...,\n",
      "          [-0.0045, -0.0124, -0.0010,  ...,  0.0607,  0.0656, -0.0705],\n",
      "          [-0.0718,  0.0224,  0.0024,  ..., -0.0362,  0.0535,  0.0333],\n",
      "          [ 0.0375,  0.0136,  0.0451,  ...,  0.0373,  0.0115, -0.0018]],\n",
      "\n",
      "         [[ 0.0407,  0.0687,  0.0241,  ..., -0.0174,  0.0163, -0.0294],\n",
      "          [ 0.0525, -0.0204, -0.0705,  ...,  0.0262, -0.0255,  0.0512],\n",
      "          [ 0.0377, -0.0533,  0.0037,  ..., -0.0205,  0.0086, -0.0422],\n",
      "          ...,\n",
      "          [-0.0057,  0.0098, -0.0084,  ..., -0.0028, -0.0416,  0.0665],\n",
      "          [ 0.0539, -0.0074, -0.0716,  ...,  0.0314,  0.0168,  0.0492],\n",
      "          [ 0.0445,  0.0642,  0.0444,  ..., -0.0253, -0.0369,  0.0465]],\n",
      "\n",
      "         [[-0.0032, -0.0534,  0.0113,  ...,  0.0569,  0.0431,  0.0611],\n",
      "          [-0.0069, -0.0489,  0.0209,  ...,  0.0540, -0.0184,  0.0259],\n",
      "          [-0.0605,  0.0125,  0.0486,  ..., -0.0209, -0.0117, -0.0137],\n",
      "          ...,\n",
      "          [ 0.0445, -0.0438, -0.0640,  ...,  0.0118,  0.0596,  0.0413],\n",
      "          [-0.0719,  0.0585,  0.0487,  ..., -0.0269, -0.0307,  0.0267],\n",
      "          [ 0.0301, -0.0489,  0.0453,  ..., -0.0607, -0.0492,  0.0667]]],\n",
      "\n",
      "\n",
      "        ...,\n",
      "\n",
      "\n",
      "        [[[ 0.0317,  0.0717, -0.0027,  ...,  0.0134, -0.0216, -0.0482],\n",
      "          [ 0.0686,  0.0456,  0.0397,  ..., -0.0353,  0.0463, -0.0343],\n",
      "          [ 0.0138,  0.0022,  0.0388,  ..., -0.0338, -0.0266,  0.0303],\n",
      "          ...,\n",
      "          [-0.0264,  0.0121,  0.0168,  ...,  0.0168,  0.0666, -0.0496],\n",
      "          [ 0.0086, -0.0653,  0.0029,  ..., -0.0377,  0.0182,  0.0516],\n",
      "          [ 0.0262, -0.0303,  0.0692,  ..., -0.0434, -0.0416, -0.0183]],\n",
      "\n",
      "         [[ 0.0100, -0.0038, -0.0532,  ..., -0.0405, -0.0219, -0.0229],\n",
      "          [ 0.0038,  0.0277,  0.0255,  ..., -0.0148,  0.0272, -0.0443],\n",
      "          [ 0.0020, -0.0254,  0.0112,  ...,  0.0687,  0.0462, -0.0076],\n",
      "          ...,\n",
      "          [ 0.0453,  0.0029,  0.0090,  ...,  0.0110, -0.0062, -0.0477],\n",
      "          [-0.0164, -0.0016, -0.0155,  ..., -0.0397,  0.0480, -0.0526],\n",
      "          [ 0.0311,  0.0710,  0.0563,  ...,  0.0694,  0.0701, -0.0447]],\n",
      "\n",
      "         [[ 0.0515,  0.0250, -0.0330,  ...,  0.0480,  0.0610,  0.0687],\n",
      "          [ 0.0078, -0.0025,  0.0331,  ...,  0.0414, -0.0351,  0.0087],\n",
      "          [-0.0067,  0.0270,  0.0392,  ...,  0.0099, -0.0594, -0.0073],\n",
      "          ...,\n",
      "          [ 0.0142,  0.0534,  0.0216,  ...,  0.0416,  0.0241, -0.0628],\n",
      "          [-0.0042, -0.0593, -0.0689,  ...,  0.0218, -0.0333,  0.0618],\n",
      "          [ 0.0145, -0.0386,  0.0215,  ..., -0.0604, -0.0217, -0.0567]]],\n",
      "\n",
      "\n",
      "        [[[ 0.0637, -0.0567,  0.0052,  ..., -0.0467, -0.0195,  0.0025],\n",
      "          [-0.0176,  0.0034,  0.0333,  ..., -0.0698,  0.0296,  0.0504],\n",
      "          [-0.0380, -0.0143, -0.0460,  ..., -0.0664, -0.0230, -0.0223],\n",
      "          ...,\n",
      "          [ 0.0696, -0.0395, -0.0329,  ..., -0.0110, -0.0142,  0.0548],\n",
      "          [ 0.0446,  0.0374,  0.0499,  ...,  0.0142, -0.0480,  0.0453],\n",
      "          [-0.0687,  0.0424, -0.0697,  ..., -0.0409,  0.0577,  0.0422]],\n",
      "\n",
      "         [[-0.0520, -0.0282, -0.0302,  ..., -0.0121, -0.0290, -0.0275],\n",
      "          [ 0.0019, -0.0358, -0.0365,  ...,  0.0465, -0.0547,  0.0077],\n",
      "          [ 0.0110, -0.0312,  0.0613,  ..., -0.0456,  0.0544,  0.0168],\n",
      "          ...,\n",
      "          [-0.0003,  0.0440, -0.0425,  ..., -0.0213,  0.0088, -0.0560],\n",
      "          [ 0.0226,  0.0340,  0.0248,  ...,  0.0507, -0.0366, -0.0215],\n",
      "          [ 0.0627, -0.0034, -0.0502,  ...,  0.0577, -0.0118, -0.0487]],\n",
      "\n",
      "         [[-0.0245, -0.0322,  0.0448,  ...,  0.0642, -0.0112, -0.0674],\n",
      "          [-0.0279,  0.0256, -0.0303,  ...,  0.0393,  0.0251, -0.0494],\n",
      "          [-0.0460,  0.0305,  0.0581,  ...,  0.0219, -0.0564, -0.0291],\n",
      "          ...,\n",
      "          [-0.0093, -0.0249,  0.0694,  ...,  0.0598,  0.0275,  0.0231],\n",
      "          [-0.0242,  0.0190, -0.0396,  ..., -0.0596, -0.0116,  0.0175],\n",
      "          [-0.0344,  0.0059, -0.0657,  ..., -0.0242,  0.0678, -0.0248]]],\n",
      "\n",
      "\n",
      "        [[[-0.0666, -0.0106, -0.0137,  ..., -0.0684,  0.0273, -0.0669],\n",
      "          [-0.0033,  0.0692,  0.0545,  ..., -0.0209,  0.0445, -0.0352],\n",
      "          [-0.0034,  0.0676, -0.0538,  ...,  0.0087,  0.0016,  0.0190],\n",
      "          ...,\n",
      "          [ 0.0308, -0.0380, -0.0553,  ...,  0.0460,  0.0447, -0.0712],\n",
      "          [ 0.0577, -0.0478,  0.0174,  ..., -0.0698, -0.0006,  0.0330],\n",
      "          [ 0.0389, -0.0585,  0.0195,  ...,  0.0082,  0.0534, -0.0574]],\n",
      "\n",
      "         [[ 0.0598,  0.0504, -0.0234,  ...,  0.0137, -0.0454,  0.0015],\n",
      "          [ 0.0186,  0.0177,  0.0294,  ...,  0.0277, -0.0384, -0.0637],\n",
      "          [ 0.0347, -0.0642,  0.0704,  ...,  0.0151, -0.0616, -0.0250],\n",
      "          ...,\n",
      "          [ 0.0277,  0.0628, -0.0308,  ..., -0.0290, -0.0291,  0.0271],\n",
      "          [ 0.0172, -0.0235, -0.0405,  ...,  0.0406, -0.0604,  0.0552],\n",
      "          [ 0.0318, -0.0394, -0.0159,  ..., -0.0310, -0.0022, -0.0594]],\n",
      "\n",
      "         [[ 0.0064, -0.0461, -0.0445,  ...,  0.0711, -0.0506, -0.0020],\n",
      "          [-0.0330,  0.0125, -0.0096,  ...,  0.0493, -0.0633,  0.0123],\n",
      "          [ 0.0405,  0.0559, -0.0473,  ...,  0.0050,  0.0342, -0.0425],\n",
      "          ...,\n",
      "          [-0.0526, -0.0390, -0.0493,  ..., -0.0511, -0.0697, -0.0590],\n",
      "          [-0.0161, -0.0399, -0.0346,  ...,  0.0449, -0.0064,  0.0651],\n",
      "          [ 0.0624,  0.0054,  0.0413,  ..., -0.0152,  0.0488, -0.0091]]]],\n",
      "       device='cuda:0', requires_grad=True), Parameter containing:\n",
      "tensor([-7.3427e-03, -4.7702e-02, -9.9137e-03,  4.2092e-02,  6.5826e-02,\n",
      "         3.7517e-02, -3.6629e-02,  6.5452e-03,  7.1198e-02,  5.3797e-02,\n",
      "         1.4798e-02, -2.7169e-02,  7.4584e-03,  4.3146e-02, -7.1382e-02,\n",
      "         3.5118e-02, -6.6484e-02,  4.6196e-02,  1.8349e-02, -6.4409e-02,\n",
      "        -2.1815e-02, -3.1626e-02,  1.1830e-02, -1.1081e-02, -7.0872e-02,\n",
      "        -5.1286e-02, -1.2061e-02,  2.3919e-02, -6.4358e-02, -2.8097e-02,\n",
      "        -5.5868e-02,  2.7067e-02,  4.5541e-02,  1.4927e-02,  5.3926e-02,\n",
      "         3.8088e-03,  6.7436e-02,  1.4546e-03, -4.7845e-03, -9.8135e-03,\n",
      "         3.1066e-02,  2.5677e-02,  1.2352e-02,  4.1755e-02, -6.7722e-02,\n",
      "         4.4871e-02,  5.7165e-02,  6.1231e-03, -6.9443e-02,  7.1453e-02,\n",
      "         2.0013e-02, -4.2787e-02,  3.8502e-02,  4.7080e-02, -3.2775e-02,\n",
      "         3.5039e-02,  2.4898e-02, -5.2416e-02, -4.5220e-02, -5.4723e-02,\n",
      "        -4.8561e-02,  2.1765e-02,  5.2425e-02, -4.4550e-02, -3.2467e-02,\n",
      "        -4.7995e-03,  5.8749e-02,  7.0881e-02, -3.7592e-02,  6.5555e-02,\n",
      "        -7.1215e-02,  3.7709e-02, -8.7149e-03,  6.0389e-03,  3.4384e-02,\n",
      "        -4.0770e-02, -1.2478e-02,  5.0338e-02,  2.5376e-04, -6.8141e-02,\n",
      "         3.8820e-02,  7.1170e-02, -4.1624e-02, -6.4546e-02, -6.4334e-02,\n",
      "         3.6516e-02,  9.6258e-03,  5.1814e-02, -5.0602e-02, -4.2102e-02,\n",
      "        -4.7751e-02, -2.9641e-02, -7.2136e-02,  7.0083e-02,  3.4327e-03,\n",
      "        -3.6020e-02, -2.5633e-02,  6.7684e-02,  2.9876e-02, -6.6763e-04,\n",
      "        -7.1547e-02, -6.5324e-02,  1.5838e-02, -3.6850e-02, -1.2774e-02,\n",
      "         1.7858e-02, -3.6047e-05,  5.7662e-02, -6.2680e-03, -3.2559e-02,\n",
      "        -6.8822e-02,  3.3619e-02, -5.4720e-02,  4.2252e-03, -4.8427e-02,\n",
      "         4.0554e-02,  1.7091e-02, -1.7991e-02, -3.4629e-02, -3.8084e-02,\n",
      "         3.5905e-03,  1.7548e-02,  6.8757e-02, -5.9243e-02,  5.0753e-02,\n",
      "        -5.1217e-02, -2.3261e-02, -4.1058e-02,  2.6768e-02,  1.2755e-02,\n",
      "        -3.7442e-02, -5.2233e-02, -1.0139e-02,  2.9447e-02, -5.9352e-02,\n",
      "         3.6919e-02,  6.1512e-02, -4.9390e-02, -1.7514e-02, -4.1554e-02,\n",
      "         3.6794e-02,  7.2060e-02,  6.1336e-02,  9.2614e-03, -7.1169e-02,\n",
      "         5.3618e-02,  4.5346e-03,  4.3510e-02,  6.9495e-02,  1.4339e-02,\n",
      "         1.5641e-02,  2.3543e-02, -3.3059e-02, -8.7918e-03, -1.1460e-02,\n",
      "         4.3783e-02,  3.8518e-02,  5.7129e-02,  7.1943e-03,  5.9642e-02,\n",
      "        -5.7665e-02, -2.1783e-02, -5.7172e-02,  2.4349e-02,  1.5103e-02,\n",
      "        -1.1243e-02,  7.3949e-03,  6.2733e-02,  1.0090e-03, -5.2766e-02,\n",
      "        -6.5581e-02, -1.6153e-02, -4.0569e-02, -9.2022e-03, -4.1552e-02,\n",
      "        -2.5869e-02,  5.9491e-02,  5.6655e-02, -1.1071e-02, -3.0318e-02,\n",
      "        -3.4548e-02, -7.2006e-02, -3.2591e-02, -7.2049e-02, -1.1201e-02,\n",
      "        -2.5514e-02, -6.8271e-04,  4.4973e-02,  4.1610e-04, -5.1773e-02,\n",
      "        -1.9490e-02, -7.0119e-02], device='cuda:0', requires_grad=True), Parameter containing:\n",
      "tensor([[[-0.0374, -0.0265,  0.8352,  ...,  0.5115, -0.1255, -0.3078],\n",
      "         [ 0.7603, -1.3266, -0.9886,  ...,  0.3480, -0.6832, -1.5408],\n",
      "         [-0.0351, -0.6294, -0.9052,  ..., -1.6480, -0.4056,  0.3825],\n",
      "         ...,\n",
      "         [ 1.3126,  0.6809, -0.5748,  ..., -0.8040, -0.0647, -0.3953],\n",
      "         [ 0.0852,  1.1879,  0.2147,  ..., -0.4984, -1.6073,  1.1870],\n",
      "         [ 1.0143,  0.4570,  0.0996,  ..., -2.2412, -0.8101,  1.1950]]],\n",
      "       device='cuda:0', requires_grad=True), Parameter containing:\n",
      "tensor([[-0.0330, -0.0154, -0.0103,  ...,  0.0025, -0.0073,  0.0230],\n",
      "        [ 0.0650,  0.0873,  0.0417,  ...,  0.0753,  0.0053,  0.0876],\n",
      "        [ 0.0869, -0.0835,  0.0399,  ...,  0.0248,  0.0694,  0.0213],\n",
      "        ...,\n",
      "        [ 0.0042,  0.0483, -0.0237,  ..., -0.0818,  0.0528,  0.0794],\n",
      "        [ 0.0468,  0.0617, -0.0323,  ...,  0.0088,  0.0023, -0.0856],\n",
      "        [ 0.0546,  0.0067,  0.0374,  ...,  0.0069,  0.0800, -0.0741]],\n",
      "       device='cuda:0', requires_grad=True), Parameter containing:\n",
      "tensor([[ 0.0177,  0.0104, -0.0189,  ...,  0.0024, -0.0443,  0.0426],\n",
      "        [-0.0297, -0.0328, -0.0505,  ...,  0.0382, -0.0234,  0.0159],\n",
      "        [ 0.0278,  0.0417,  0.0666,  ...,  0.0054,  0.0631, -0.0342],\n",
      "        ...,\n",
      "        [ 0.0400,  0.0460,  0.0284,  ...,  0.0379,  0.0286,  0.0570],\n",
      "        [ 0.0024,  0.0101, -0.0493,  ...,  0.0584, -0.0252,  0.0154],\n",
      "        [-0.0561,  0.0658,  0.0431,  ..., -0.0068,  0.0307, -0.0500]],\n",
      "       device='cuda:0', requires_grad=True), Parameter containing:\n",
      "tensor([[ 0.0494,  0.0365,  0.0663,  ...,  0.0528, -0.0656, -0.0380],\n",
      "        [ 0.0699, -0.0717,  0.0716,  ...,  0.0473, -0.0216, -0.0687],\n",
      "        [ 0.0630, -0.0393, -0.0413,  ..., -0.0236, -0.0240,  0.0093],\n",
      "        ...,\n",
      "        [-0.0073, -0.0687,  0.0198,  ...,  0.0430, -0.0304,  0.0012],\n",
      "        [-0.0283,  0.0148, -0.0193,  ..., -0.0711,  0.0218, -0.0621],\n",
      "        [ 0.0439, -0.0634,  0.0242,  ...,  0.0323,  0.0101, -0.0282]],\n",
      "       device='cuda:0', requires_grad=True), Parameter containing:\n",
      "tensor([[ 0.0102, -0.0228,  0.0322,  ...,  0.0339,  0.0133, -0.0046],\n",
      "        [ 0.0283, -0.0102, -0.0126,  ...,  0.0136, -0.0145,  0.0090],\n",
      "        [ 0.0296, -0.0281,  0.0056,  ...,  0.0086, -0.0126,  0.0002],\n",
      "        ...,\n",
      "        [ 0.0348, -0.0196,  0.0215,  ...,  0.0301, -0.0119,  0.0084],\n",
      "        [ 0.0297, -0.0178, -0.0172,  ..., -0.0136, -0.0206, -0.0063],\n",
      "        [-0.0298,  0.0192, -0.0308,  ..., -0.0106, -0.0157,  0.0266]],\n",
      "       device='cuda:0', requires_grad=True), Parameter containing:\n",
      "tensor([1., 1., 1., 1., 1., 1., 1., 1., 1., 1., 1., 1., 1., 1., 1., 1., 1., 1.,\n",
      "        1., 1., 1., 1., 1., 1., 1., 1., 1., 1., 1., 1., 1., 1., 1., 1., 1., 1.,\n",
      "        1., 1., 1., 1., 1., 1., 1., 1., 1., 1., 1., 1., 1., 1., 1., 1., 1., 1.,\n",
      "        1., 1., 1., 1., 1., 1., 1., 1., 1., 1., 1., 1., 1., 1., 1., 1., 1., 1.,\n",
      "        1., 1., 1., 1., 1., 1., 1., 1., 1., 1., 1., 1., 1., 1., 1., 1., 1., 1.,\n",
      "        1., 1., 1., 1., 1., 1., 1., 1., 1., 1., 1., 1., 1., 1., 1., 1., 1., 1.,\n",
      "        1., 1., 1., 1., 1., 1., 1., 1., 1., 1., 1., 1., 1., 1., 1., 1., 1., 1.,\n",
      "        1., 1., 1., 1., 1., 1., 1., 1., 1., 1., 1., 1., 1., 1., 1., 1., 1., 1.,\n",
      "        1., 1., 1., 1., 1., 1., 1., 1., 1., 1., 1., 1., 1., 1., 1., 1., 1., 1.,\n",
      "        1., 1., 1., 1., 1., 1., 1., 1., 1., 1., 1., 1., 1., 1., 1., 1., 1., 1.,\n",
      "        1., 1., 1., 1., 1., 1., 1., 1., 1., 1., 1., 1.], device='cuda:0',\n",
      "       requires_grad=True), Parameter containing:\n",
      "tensor([1., 1., 1., 1., 1., 1., 1., 1., 1., 1., 1., 1., 1., 1., 1., 1., 1., 1.,\n",
      "        1., 1., 1., 1., 1., 1., 1., 1., 1., 1., 1., 1., 1., 1., 1., 1., 1., 1.,\n",
      "        1., 1., 1., 1., 1., 1., 1., 1., 1., 1., 1., 1., 1., 1., 1., 1., 1., 1.,\n",
      "        1., 1., 1., 1., 1., 1., 1., 1., 1., 1., 1., 1., 1., 1., 1., 1., 1., 1.,\n",
      "        1., 1., 1., 1., 1., 1., 1., 1., 1., 1., 1., 1., 1., 1., 1., 1., 1., 1.,\n",
      "        1., 1., 1., 1., 1., 1., 1., 1., 1., 1., 1., 1., 1., 1., 1., 1., 1., 1.,\n",
      "        1., 1., 1., 1., 1., 1., 1., 1., 1., 1., 1., 1., 1., 1., 1., 1., 1., 1.,\n",
      "        1., 1., 1., 1., 1., 1., 1., 1., 1., 1., 1., 1., 1., 1., 1., 1., 1., 1.,\n",
      "        1., 1., 1., 1., 1., 1., 1., 1., 1., 1., 1., 1., 1., 1., 1., 1., 1., 1.,\n",
      "        1., 1., 1., 1., 1., 1., 1., 1., 1., 1., 1., 1., 1., 1., 1., 1., 1., 1.,\n",
      "        1., 1., 1., 1., 1., 1., 1., 1., 1., 1., 1., 1.], device='cuda:0',\n",
      "       requires_grad=True), Parameter containing:\n",
      "tensor([[-0.0330, -0.0154, -0.0103,  ...,  0.0025, -0.0073,  0.0230],\n",
      "        [ 0.0650,  0.0873,  0.0417,  ...,  0.0753,  0.0053,  0.0876],\n",
      "        [ 0.0869, -0.0835,  0.0399,  ...,  0.0248,  0.0694,  0.0213],\n",
      "        ...,\n",
      "        [ 0.0042,  0.0483, -0.0237,  ..., -0.0818,  0.0528,  0.0794],\n",
      "        [ 0.0468,  0.0617, -0.0323,  ...,  0.0088,  0.0023, -0.0856],\n",
      "        [ 0.0546,  0.0067,  0.0374,  ...,  0.0069,  0.0800, -0.0741]],\n",
      "       device='cuda:0', requires_grad=True), Parameter containing:\n",
      "tensor([[ 0.0177,  0.0104, -0.0189,  ...,  0.0024, -0.0443,  0.0426],\n",
      "        [-0.0297, -0.0328, -0.0505,  ...,  0.0382, -0.0234,  0.0159],\n",
      "        [ 0.0278,  0.0417,  0.0666,  ...,  0.0054,  0.0631, -0.0342],\n",
      "        ...,\n",
      "        [ 0.0400,  0.0460,  0.0284,  ...,  0.0379,  0.0286,  0.0570],\n",
      "        [ 0.0024,  0.0101, -0.0493,  ...,  0.0584, -0.0252,  0.0154],\n",
      "        [-0.0561,  0.0658,  0.0431,  ..., -0.0068,  0.0307, -0.0500]],\n",
      "       device='cuda:0', requires_grad=True), Parameter containing:\n",
      "tensor([[ 0.0494,  0.0365,  0.0663,  ...,  0.0528, -0.0656, -0.0380],\n",
      "        [ 0.0699, -0.0717,  0.0716,  ...,  0.0473, -0.0216, -0.0687],\n",
      "        [ 0.0630, -0.0393, -0.0413,  ..., -0.0236, -0.0240,  0.0093],\n",
      "        ...,\n",
      "        [-0.0073, -0.0687,  0.0198,  ...,  0.0430, -0.0304,  0.0012],\n",
      "        [-0.0283,  0.0148, -0.0193,  ..., -0.0711,  0.0218, -0.0621],\n",
      "        [ 0.0439, -0.0634,  0.0242,  ...,  0.0323,  0.0101, -0.0282]],\n",
      "       device='cuda:0', requires_grad=True), Parameter containing:\n",
      "tensor([[ 0.0102, -0.0228,  0.0322,  ...,  0.0339,  0.0133, -0.0046],\n",
      "        [ 0.0283, -0.0102, -0.0126,  ...,  0.0136, -0.0145,  0.0090],\n",
      "        [ 0.0296, -0.0281,  0.0056,  ...,  0.0086, -0.0126,  0.0002],\n",
      "        ...,\n",
      "        [ 0.0348, -0.0196,  0.0215,  ...,  0.0301, -0.0119,  0.0084],\n",
      "        [ 0.0297, -0.0178, -0.0172,  ..., -0.0136, -0.0206, -0.0063],\n",
      "        [-0.0298,  0.0192, -0.0308,  ..., -0.0106, -0.0157,  0.0266]],\n",
      "       device='cuda:0', requires_grad=True), Parameter containing:\n",
      "tensor([1., 1., 1., 1., 1., 1., 1., 1., 1., 1., 1., 1., 1., 1., 1., 1., 1., 1.,\n",
      "        1., 1., 1., 1., 1., 1., 1., 1., 1., 1., 1., 1., 1., 1., 1., 1., 1., 1.,\n",
      "        1., 1., 1., 1., 1., 1., 1., 1., 1., 1., 1., 1., 1., 1., 1., 1., 1., 1.,\n",
      "        1., 1., 1., 1., 1., 1., 1., 1., 1., 1., 1., 1., 1., 1., 1., 1., 1., 1.,\n",
      "        1., 1., 1., 1., 1., 1., 1., 1., 1., 1., 1., 1., 1., 1., 1., 1., 1., 1.,\n",
      "        1., 1., 1., 1., 1., 1., 1., 1., 1., 1., 1., 1., 1., 1., 1., 1., 1., 1.,\n",
      "        1., 1., 1., 1., 1., 1., 1., 1., 1., 1., 1., 1., 1., 1., 1., 1., 1., 1.,\n",
      "        1., 1., 1., 1., 1., 1., 1., 1., 1., 1., 1., 1., 1., 1., 1., 1., 1., 1.,\n",
      "        1., 1., 1., 1., 1., 1., 1., 1., 1., 1., 1., 1., 1., 1., 1., 1., 1., 1.,\n",
      "        1., 1., 1., 1., 1., 1., 1., 1., 1., 1., 1., 1., 1., 1., 1., 1., 1., 1.,\n",
      "        1., 1., 1., 1., 1., 1., 1., 1., 1., 1., 1., 1.], device='cuda:0',\n",
      "       requires_grad=True), Parameter containing:\n",
      "tensor([1., 1., 1., 1., 1., 1., 1., 1., 1., 1., 1., 1., 1., 1., 1., 1., 1., 1.,\n",
      "        1., 1., 1., 1., 1., 1., 1., 1., 1., 1., 1., 1., 1., 1., 1., 1., 1., 1.,\n",
      "        1., 1., 1., 1., 1., 1., 1., 1., 1., 1., 1., 1., 1., 1., 1., 1., 1., 1.,\n",
      "        1., 1., 1., 1., 1., 1., 1., 1., 1., 1., 1., 1., 1., 1., 1., 1., 1., 1.,\n",
      "        1., 1., 1., 1., 1., 1., 1., 1., 1., 1., 1., 1., 1., 1., 1., 1., 1., 1.,\n",
      "        1., 1., 1., 1., 1., 1., 1., 1., 1., 1., 1., 1., 1., 1., 1., 1., 1., 1.,\n",
      "        1., 1., 1., 1., 1., 1., 1., 1., 1., 1., 1., 1., 1., 1., 1., 1., 1., 1.,\n",
      "        1., 1., 1., 1., 1., 1., 1., 1., 1., 1., 1., 1., 1., 1., 1., 1., 1., 1.,\n",
      "        1., 1., 1., 1., 1., 1., 1., 1., 1., 1., 1., 1., 1., 1., 1., 1., 1., 1.,\n",
      "        1., 1., 1., 1., 1., 1., 1., 1., 1., 1., 1., 1., 1., 1., 1., 1., 1., 1.,\n",
      "        1., 1., 1., 1., 1., 1., 1., 1., 1., 1., 1., 1.], device='cuda:0',\n",
      "       requires_grad=True), Parameter containing:\n",
      "tensor([[-0.0330, -0.0154, -0.0103,  ...,  0.0025, -0.0073,  0.0230],\n",
      "        [ 0.0650,  0.0873,  0.0417,  ...,  0.0753,  0.0053,  0.0876],\n",
      "        [ 0.0869, -0.0835,  0.0399,  ...,  0.0248,  0.0694,  0.0213],\n",
      "        ...,\n",
      "        [ 0.0042,  0.0483, -0.0237,  ..., -0.0818,  0.0528,  0.0794],\n",
      "        [ 0.0468,  0.0617, -0.0323,  ...,  0.0088,  0.0023, -0.0856],\n",
      "        [ 0.0546,  0.0067,  0.0374,  ...,  0.0069,  0.0800, -0.0741]],\n",
      "       device='cuda:0', requires_grad=True), Parameter containing:\n",
      "tensor([[ 0.0177,  0.0104, -0.0189,  ...,  0.0024, -0.0443,  0.0426],\n",
      "        [-0.0297, -0.0328, -0.0505,  ...,  0.0382, -0.0234,  0.0159],\n",
      "        [ 0.0278,  0.0417,  0.0666,  ...,  0.0054,  0.0631, -0.0342],\n",
      "        ...,\n",
      "        [ 0.0400,  0.0460,  0.0284,  ...,  0.0379,  0.0286,  0.0570],\n",
      "        [ 0.0024,  0.0101, -0.0493,  ...,  0.0584, -0.0252,  0.0154],\n",
      "        [-0.0561,  0.0658,  0.0431,  ..., -0.0068,  0.0307, -0.0500]],\n",
      "       device='cuda:0', requires_grad=True), Parameter containing:\n",
      "tensor([[ 0.0494,  0.0365,  0.0663,  ...,  0.0528, -0.0656, -0.0380],\n",
      "        [ 0.0699, -0.0717,  0.0716,  ...,  0.0473, -0.0216, -0.0687],\n",
      "        [ 0.0630, -0.0393, -0.0413,  ..., -0.0236, -0.0240,  0.0093],\n",
      "        ...,\n",
      "        [-0.0073, -0.0687,  0.0198,  ...,  0.0430, -0.0304,  0.0012],\n",
      "        [-0.0283,  0.0148, -0.0193,  ..., -0.0711,  0.0218, -0.0621],\n",
      "        [ 0.0439, -0.0634,  0.0242,  ...,  0.0323,  0.0101, -0.0282]],\n",
      "       device='cuda:0', requires_grad=True), Parameter containing:\n",
      "tensor([[ 0.0102, -0.0228,  0.0322,  ...,  0.0339,  0.0133, -0.0046],\n",
      "        [ 0.0283, -0.0102, -0.0126,  ...,  0.0136, -0.0145,  0.0090],\n",
      "        [ 0.0296, -0.0281,  0.0056,  ...,  0.0086, -0.0126,  0.0002],\n",
      "        ...,\n",
      "        [ 0.0348, -0.0196,  0.0215,  ...,  0.0301, -0.0119,  0.0084],\n",
      "        [ 0.0297, -0.0178, -0.0172,  ..., -0.0136, -0.0206, -0.0063],\n",
      "        [-0.0298,  0.0192, -0.0308,  ..., -0.0106, -0.0157,  0.0266]],\n",
      "       device='cuda:0', requires_grad=True), Parameter containing:\n",
      "tensor([1., 1., 1., 1., 1., 1., 1., 1., 1., 1., 1., 1., 1., 1., 1., 1., 1., 1.,\n",
      "        1., 1., 1., 1., 1., 1., 1., 1., 1., 1., 1., 1., 1., 1., 1., 1., 1., 1.,\n",
      "        1., 1., 1., 1., 1., 1., 1., 1., 1., 1., 1., 1., 1., 1., 1., 1., 1., 1.,\n",
      "        1., 1., 1., 1., 1., 1., 1., 1., 1., 1., 1., 1., 1., 1., 1., 1., 1., 1.,\n",
      "        1., 1., 1., 1., 1., 1., 1., 1., 1., 1., 1., 1., 1., 1., 1., 1., 1., 1.,\n",
      "        1., 1., 1., 1., 1., 1., 1., 1., 1., 1., 1., 1., 1., 1., 1., 1., 1., 1.,\n",
      "        1., 1., 1., 1., 1., 1., 1., 1., 1., 1., 1., 1., 1., 1., 1., 1., 1., 1.,\n",
      "        1., 1., 1., 1., 1., 1., 1., 1., 1., 1., 1., 1., 1., 1., 1., 1., 1., 1.,\n",
      "        1., 1., 1., 1., 1., 1., 1., 1., 1., 1., 1., 1., 1., 1., 1., 1., 1., 1.,\n",
      "        1., 1., 1., 1., 1., 1., 1., 1., 1., 1., 1., 1., 1., 1., 1., 1., 1., 1.,\n",
      "        1., 1., 1., 1., 1., 1., 1., 1., 1., 1., 1., 1.], device='cuda:0',\n",
      "       requires_grad=True), Parameter containing:\n",
      "tensor([1., 1., 1., 1., 1., 1., 1., 1., 1., 1., 1., 1., 1., 1., 1., 1., 1., 1.,\n",
      "        1., 1., 1., 1., 1., 1., 1., 1., 1., 1., 1., 1., 1., 1., 1., 1., 1., 1.,\n",
      "        1., 1., 1., 1., 1., 1., 1., 1., 1., 1., 1., 1., 1., 1., 1., 1., 1., 1.,\n",
      "        1., 1., 1., 1., 1., 1., 1., 1., 1., 1., 1., 1., 1., 1., 1., 1., 1., 1.,\n",
      "        1., 1., 1., 1., 1., 1., 1., 1., 1., 1., 1., 1., 1., 1., 1., 1., 1., 1.,\n",
      "        1., 1., 1., 1., 1., 1., 1., 1., 1., 1., 1., 1., 1., 1., 1., 1., 1., 1.,\n",
      "        1., 1., 1., 1., 1., 1., 1., 1., 1., 1., 1., 1., 1., 1., 1., 1., 1., 1.,\n",
      "        1., 1., 1., 1., 1., 1., 1., 1., 1., 1., 1., 1., 1., 1., 1., 1., 1., 1.,\n",
      "        1., 1., 1., 1., 1., 1., 1., 1., 1., 1., 1., 1., 1., 1., 1., 1., 1., 1.,\n",
      "        1., 1., 1., 1., 1., 1., 1., 1., 1., 1., 1., 1., 1., 1., 1., 1., 1., 1.,\n",
      "        1., 1., 1., 1., 1., 1., 1., 1., 1., 1., 1., 1.], device='cuda:0',\n",
      "       requires_grad=True), Parameter containing:\n",
      "tensor([[-0.0330, -0.0154, -0.0103,  ...,  0.0025, -0.0073,  0.0230],\n",
      "        [ 0.0650,  0.0873,  0.0417,  ...,  0.0753,  0.0053,  0.0876],\n",
      "        [ 0.0869, -0.0835,  0.0399,  ...,  0.0248,  0.0694,  0.0213],\n",
      "        ...,\n",
      "        [ 0.0042,  0.0483, -0.0237,  ..., -0.0818,  0.0528,  0.0794],\n",
      "        [ 0.0468,  0.0617, -0.0323,  ...,  0.0088,  0.0023, -0.0856],\n",
      "        [ 0.0546,  0.0067,  0.0374,  ...,  0.0069,  0.0800, -0.0741]],\n",
      "       device='cuda:0', requires_grad=True), Parameter containing:\n",
      "tensor([[ 0.0177,  0.0104, -0.0189,  ...,  0.0024, -0.0443,  0.0426],\n",
      "        [-0.0297, -0.0328, -0.0505,  ...,  0.0382, -0.0234,  0.0159],\n",
      "        [ 0.0278,  0.0417,  0.0666,  ...,  0.0054,  0.0631, -0.0342],\n",
      "        ...,\n",
      "        [ 0.0400,  0.0460,  0.0284,  ...,  0.0379,  0.0286,  0.0570],\n",
      "        [ 0.0024,  0.0101, -0.0493,  ...,  0.0584, -0.0252,  0.0154],\n",
      "        [-0.0561,  0.0658,  0.0431,  ..., -0.0068,  0.0307, -0.0500]],\n",
      "       device='cuda:0', requires_grad=True), Parameter containing:\n",
      "tensor([[ 0.0494,  0.0365,  0.0663,  ...,  0.0528, -0.0656, -0.0380],\n",
      "        [ 0.0699, -0.0717,  0.0716,  ...,  0.0473, -0.0216, -0.0687],\n",
      "        [ 0.0630, -0.0393, -0.0413,  ..., -0.0236, -0.0240,  0.0093],\n",
      "        ...,\n",
      "        [-0.0073, -0.0687,  0.0198,  ...,  0.0430, -0.0304,  0.0012],\n",
      "        [-0.0283,  0.0148, -0.0193,  ..., -0.0711,  0.0218, -0.0621],\n",
      "        [ 0.0439, -0.0634,  0.0242,  ...,  0.0323,  0.0101, -0.0282]],\n",
      "       device='cuda:0', requires_grad=True), Parameter containing:\n",
      "tensor([[ 0.0102, -0.0228,  0.0322,  ...,  0.0339,  0.0133, -0.0046],\n",
      "        [ 0.0283, -0.0102, -0.0126,  ...,  0.0136, -0.0145,  0.0090],\n",
      "        [ 0.0296, -0.0281,  0.0056,  ...,  0.0086, -0.0126,  0.0002],\n",
      "        ...,\n",
      "        [ 0.0348, -0.0196,  0.0215,  ...,  0.0301, -0.0119,  0.0084],\n",
      "        [ 0.0297, -0.0178, -0.0172,  ..., -0.0136, -0.0206, -0.0063],\n",
      "        [-0.0298,  0.0192, -0.0308,  ..., -0.0106, -0.0157,  0.0266]],\n",
      "       device='cuda:0', requires_grad=True), Parameter containing:\n",
      "tensor([1., 1., 1., 1., 1., 1., 1., 1., 1., 1., 1., 1., 1., 1., 1., 1., 1., 1.,\n",
      "        1., 1., 1., 1., 1., 1., 1., 1., 1., 1., 1., 1., 1., 1., 1., 1., 1., 1.,\n",
      "        1., 1., 1., 1., 1., 1., 1., 1., 1., 1., 1., 1., 1., 1., 1., 1., 1., 1.,\n",
      "        1., 1., 1., 1., 1., 1., 1., 1., 1., 1., 1., 1., 1., 1., 1., 1., 1., 1.,\n",
      "        1., 1., 1., 1., 1., 1., 1., 1., 1., 1., 1., 1., 1., 1., 1., 1., 1., 1.,\n",
      "        1., 1., 1., 1., 1., 1., 1., 1., 1., 1., 1., 1., 1., 1., 1., 1., 1., 1.,\n",
      "        1., 1., 1., 1., 1., 1., 1., 1., 1., 1., 1., 1., 1., 1., 1., 1., 1., 1.,\n",
      "        1., 1., 1., 1., 1., 1., 1., 1., 1., 1., 1., 1., 1., 1., 1., 1., 1., 1.,\n",
      "        1., 1., 1., 1., 1., 1., 1., 1., 1., 1., 1., 1., 1., 1., 1., 1., 1., 1.,\n",
      "        1., 1., 1., 1., 1., 1., 1., 1., 1., 1., 1., 1., 1., 1., 1., 1., 1., 1.,\n",
      "        1., 1., 1., 1., 1., 1., 1., 1., 1., 1., 1., 1.], device='cuda:0',\n",
      "       requires_grad=True), Parameter containing:\n",
      "tensor([1., 1., 1., 1., 1., 1., 1., 1., 1., 1., 1., 1., 1., 1., 1., 1., 1., 1.,\n",
      "        1., 1., 1., 1., 1., 1., 1., 1., 1., 1., 1., 1., 1., 1., 1., 1., 1., 1.,\n",
      "        1., 1., 1., 1., 1., 1., 1., 1., 1., 1., 1., 1., 1., 1., 1., 1., 1., 1.,\n",
      "        1., 1., 1., 1., 1., 1., 1., 1., 1., 1., 1., 1., 1., 1., 1., 1., 1., 1.,\n",
      "        1., 1., 1., 1., 1., 1., 1., 1., 1., 1., 1., 1., 1., 1., 1., 1., 1., 1.,\n",
      "        1., 1., 1., 1., 1., 1., 1., 1., 1., 1., 1., 1., 1., 1., 1., 1., 1., 1.,\n",
      "        1., 1., 1., 1., 1., 1., 1., 1., 1., 1., 1., 1., 1., 1., 1., 1., 1., 1.,\n",
      "        1., 1., 1., 1., 1., 1., 1., 1., 1., 1., 1., 1., 1., 1., 1., 1., 1., 1.,\n",
      "        1., 1., 1., 1., 1., 1., 1., 1., 1., 1., 1., 1., 1., 1., 1., 1., 1., 1.,\n",
      "        1., 1., 1., 1., 1., 1., 1., 1., 1., 1., 1., 1., 1., 1., 1., 1., 1., 1.,\n",
      "        1., 1., 1., 1., 1., 1., 1., 1., 1., 1., 1., 1.], device='cuda:0',\n",
      "       requires_grad=True), Parameter containing:\n",
      "tensor([1., 1., 1., 1., 1., 1., 1., 1., 1., 1., 1., 1., 1., 1., 1., 1., 1., 1.,\n",
      "        1., 1., 1., 1., 1., 1., 1., 1., 1., 1., 1., 1., 1., 1., 1., 1., 1., 1.,\n",
      "        1., 1., 1., 1., 1., 1., 1., 1., 1., 1., 1., 1., 1., 1., 1., 1., 1., 1.,\n",
      "        1., 1., 1., 1., 1., 1., 1., 1., 1., 1., 1., 1., 1., 1., 1., 1., 1., 1.,\n",
      "        1., 1., 1., 1., 1., 1., 1., 1., 1., 1., 1., 1., 1., 1., 1., 1., 1., 1.,\n",
      "        1., 1., 1., 1., 1., 1., 1., 1., 1., 1., 1., 1., 1., 1., 1., 1., 1., 1.,\n",
      "        1., 1., 1., 1., 1., 1., 1., 1., 1., 1., 1., 1., 1., 1., 1., 1., 1., 1.,\n",
      "        1., 1., 1., 1., 1., 1., 1., 1., 1., 1., 1., 1., 1., 1., 1., 1., 1., 1.,\n",
      "        1., 1., 1., 1., 1., 1., 1., 1., 1., 1., 1., 1., 1., 1., 1., 1., 1., 1.,\n",
      "        1., 1., 1., 1., 1., 1., 1., 1., 1., 1., 1., 1., 1., 1., 1., 1., 1., 1.,\n",
      "        1., 1., 1., 1., 1., 1., 1., 1., 1., 1., 1., 1.], device='cuda:0',\n",
      "       requires_grad=True), Parameter containing:\n",
      "tensor([0., 0., 0., 0., 0., 0., 0., 0., 0., 0., 0., 0., 0., 0., 0., 0., 0., 0., 0., 0., 0., 0., 0., 0.,\n",
      "        0., 0., 0., 0., 0., 0., 0., 0., 0., 0., 0., 0., 0., 0., 0., 0., 0., 0., 0., 0., 0., 0., 0., 0.,\n",
      "        0., 0., 0., 0., 0., 0., 0., 0., 0., 0., 0., 0., 0., 0., 0., 0., 0., 0., 0., 0., 0., 0., 0., 0.,\n",
      "        0., 0., 0., 0., 0., 0., 0., 0., 0., 0., 0., 0., 0., 0., 0., 0., 0., 0., 0., 0., 0., 0., 0., 0.,\n",
      "        0., 0., 0., 0., 0., 0., 0., 0., 0., 0., 0., 0., 0., 0., 0., 0., 0., 0., 0., 0., 0., 0., 0., 0.,\n",
      "        0., 0., 0., 0., 0., 0., 0., 0., 0., 0., 0., 0., 0., 0., 0., 0., 0., 0., 0., 0., 0., 0., 0., 0.,\n",
      "        0., 0., 0., 0., 0., 0., 0., 0., 0., 0., 0., 0., 0., 0., 0., 0., 0., 0., 0., 0., 0., 0., 0., 0.,\n",
      "        0., 0., 0., 0., 0., 0., 0., 0., 0., 0., 0., 0., 0., 0., 0., 0., 0., 0., 0., 0., 0., 0., 0., 0.],\n",
      "       device='cuda:0', requires_grad=True), Parameter containing:\n",
      "tensor([[ 0.0703,  0.0285,  0.0536,  ...,  0.0155, -0.0217,  0.0505],\n",
      "        [-0.0225,  0.0023, -0.0107,  ..., -0.0199,  0.0129,  0.0052],\n",
      "        [ 0.0146,  0.0061, -0.0666,  ...,  0.0497, -0.0437, -0.0089],\n",
      "        ...,\n",
      "        [ 0.0398, -0.0635, -0.0268,  ...,  0.0411, -0.0140, -0.0446],\n",
      "        [ 0.0664,  0.0708,  0.0483,  ..., -0.0037,  0.0587, -0.0092],\n",
      "        [ 0.0619,  0.0246,  0.0627,  ...,  0.0623,  0.0426, -0.0009]],\n",
      "       device='cuda:0', requires_grad=True), Parameter containing:\n",
      "tensor([ 0.0285,  0.0151,  0.0505,  0.0398, -0.0493,  0.0597, -0.0408, -0.0209,\n",
      "         0.0645, -0.0305], device='cuda:0', requires_grad=True)]\n"
     ]
    }
   ],
   "source": [
    "'''\n",
    "A continuacion ingrese los parametros del modelo\n",
    "\n",
    "'''\n",
    "\n",
    "num_epochs = 30\n",
    "\n",
    "model = VisionTransformer(\n",
    "    img_size=      32,\n",
    "    patch_size=    8,\n",
    "    embed_dim=     192,\n",
    "    num_heads=     4,\n",
    "    ff_dim=        768,\n",
    "    num_layers=    4,\n",
    "    dropout=       0.1,\n",
    "    batch_first=True\n",
    ").to(device)\n",
    "\n",
    "\n",
    "print(\"Parametros del modelo:\", list(model.parameters()))\n",
    "\n",
    "# Definimos funciones de loss y optimizador\n",
    "criterion = nn.CrossEntropyLoss()\n",
    "optimizer = optim.AdamW(model.parameters(), lr=3e-4)\n",
    "scheduler = StepLR(optimizer, step_size=2, gamma=0.1)\n",
    "\n",
    "\n",
    "model = model.to(device)\n",
    "\n",
    "\n",
    "try:\n",
    "    model = torch.compile(model)\n",
    "except Exception as e:\n",
    "    print(\"Se produjo error durante la compilación:\", e)\n"
   ]
  },
  {
   "cell_type": "code",
   "execution_count": 7,
   "metadata": {
    "colab": {
     "base_uri": "https://localhost:8080/"
    },
    "executionInfo": {
     "elapsed": 4,
     "status": "ok",
     "timestamp": 1747599886346,
     "user": {
      "displayName": "Juan Pablo Alianak",
      "userId": "15176005573402506761"
     },
     "user_tz": 180
    },
    "id": "KC7w55uy6Xpx",
    "outputId": "96d385dd-1e38-4f0c-b7e9-2e67e9b288bf"
   },
   "outputs": [
    {
     "name": "stdout",
     "output_type": "stream",
     "text": [
      "Número de parámetros: 1.81 millones\n"
     ]
    }
   ],
   "source": [
    "def count_parameters(model: nn.Module) -> int:\n",
    "    \"\"\"\n",
    "    Count the number of trainable parameters in a PyTorch model.\n",
    "\n",
    "    Args:\n",
    "        model (nn.Module): The PyTorch model.\n",
    "\n",
    "    Returns:\n",
    "        int: The total number of trainable parameters.\n",
    "    \"\"\"\n",
    "    return sum(p.numel() for p in model.parameters() if p.requires_grad) / 1_000_000\n",
    "\n",
    "torch.cuda.empty_cache()\n",
    "print(\"Número de parámetros: {:.2f} millones\".format(count_parameters(model)))"
   ]
  },
  {
   "cell_type": "code",
   "execution_count": 8,
   "metadata": {
    "colab": {
     "base_uri": "https://localhost:8080/"
    },
    "executionInfo": {
     "elapsed": 632292,
     "status": "ok",
     "timestamp": 1747600522746,
     "user": {
      "displayName": "Juan Pablo Alianak",
      "userId": "15176005573402506761"
     },
     "user_tz": 180
    },
    "id": "ZUlw-kR56Xpy",
    "outputId": "210db1cc-dbec-44f7-995f-b29321de43cf"
   },
   "outputs": [
    {
     "name": "stderr",
     "output_type": "stream",
     "text": [
      "\r  0%|          | 0/98 [00:00<?, ?it/s]W0518 20:25:01.927000 2030 torch/_inductor/utils.py:1137] [0/0] Not enough SMs to use max_autotune_gemm mode\n",
      "/usr/local/lib/python3.11/dist-packages/torch/_inductor/compile_fx.py:1948: UserWarning: Tesla T4 does not support bfloat16 compilation natively, skipping\n",
      "  warnings.warn(\n",
      "/usr/local/lib/python3.11/dist-packages/torch/_inductor/compile_fx.py:1948: UserWarning: Tesla T4 does not support bfloat16 compilation natively, skipping\n",
      "  warnings.warn(\n",
      "/usr/local/lib/python3.11/dist-packages/torch/_inductor/compile_fx.py:1948: UserWarning: Tesla T4 does not support bfloat16 compilation natively, skipping\n",
      "  warnings.warn(\n",
      "loss 1.64747: 100%|██████████| 98/98 [00:43<00:00,  2.25it/s]\n",
      "loss 1.44762: 100%|██████████| 98/98 [00:20<00:00,  4.74it/s]\n",
      "loss 1.33189: 100%|██████████| 98/98 [00:20<00:00,  4.74it/s]\n",
      "loss 1.48103: 100%|██████████| 98/98 [00:20<00:00,  4.73it/s]\n",
      "loss 1.24039: 100%|██████████| 98/98 [00:20<00:00,  4.83it/s]\n",
      "loss 1.16113: 100%|██████████| 98/98 [00:20<00:00,  4.85it/s]\n",
      "loss 1.20739: 100%|██████████| 98/98 [00:20<00:00,  4.72it/s]\n",
      "loss 1.13438: 100%|██████████| 98/98 [00:20<00:00,  4.78it/s]\n",
      "loss 1.08127: 100%|██████████| 98/98 [00:19<00:00,  4.93it/s]\n",
      "loss 1.02858: 100%|██████████| 98/98 [00:20<00:00,  4.74it/s]\n",
      "loss 1.00119: 100%|██████████| 98/98 [00:20<00:00,  4.81it/s]\n",
      "loss 0.93023: 100%|██████████| 98/98 [00:20<00:00,  4.89it/s]\n",
      "loss 1.01750: 100%|██████████| 98/98 [00:20<00:00,  4.79it/s]\n",
      "loss 0.90822: 100%|██████████| 98/98 [00:20<00:00,  4.83it/s]\n",
      "loss 0.86985: 100%|██████████| 98/98 [00:19<00:00,  4.92it/s]\n",
      "loss 0.85603: 100%|██████████| 98/98 [00:20<00:00,  4.82it/s]\n",
      "loss 0.81702: 100%|██████████| 98/98 [00:20<00:00,  4.89it/s]\n",
      "loss 0.72646: 100%|██████████| 98/98 [00:20<00:00,  4.89it/s]\n",
      "loss 0.90370: 100%|██████████| 98/98 [00:20<00:00,  4.85it/s]\n",
      "loss 0.84263: 100%|██████████| 98/98 [00:20<00:00,  4.90it/s]\n",
      "loss 0.69063: 100%|██████████| 98/98 [00:20<00:00,  4.82it/s]\n",
      "loss 0.74053: 100%|██████████| 98/98 [00:20<00:00,  4.78it/s]\n",
      "loss 0.65017: 100%|██████████| 98/98 [00:20<00:00,  4.89it/s]\n",
      "loss 0.67535: 100%|██████████| 98/98 [00:20<00:00,  4.82it/s]\n",
      "loss 0.62787: 100%|██████████| 98/98 [00:20<00:00,  4.80it/s]\n",
      "loss 0.53720: 100%|██████████| 98/98 [00:20<00:00,  4.76it/s]\n",
      "loss 0.57018: 100%|██████████| 98/98 [00:20<00:00,  4.90it/s]\n",
      "loss 0.49110: 100%|██████████| 98/98 [00:20<00:00,  4.81it/s]\n",
      "loss 0.58353: 100%|██████████| 98/98 [00:20<00:00,  4.90it/s]\n",
      "loss 0.55777: 100%|██████████| 98/98 [00:19<00:00,  4.90it/s]\n"
     ]
    }
   ],
   "source": [
    "trainer = Trainer(model, train_loader,test_loader,criterion,optimizer, device)\n",
    "\n",
    "\n",
    "for epoch in range(num_epochs):\n",
    "\n",
    "    trainer.train_model(use_amp=True)\n",
    "\n",
    "    #scheduler.step()"
   ]
  },
  {
   "cell_type": "code",
   "execution_count": 9,
   "metadata": {
    "colab": {
     "base_uri": "https://localhost:8080/"
    },
    "executionInfo": {
     "elapsed": 5712,
     "status": "ok",
     "timestamp": 1747600568697,
     "user": {
      "displayName": "Juan Pablo Alianak",
      "userId": "15176005573402506761"
     },
     "user_tz": 180
    },
    "id": "9s_4p6sY6Xpy",
    "outputId": "cba82a62-43fc-4bd8-8faf-390f89347a5c"
   },
   "outputs": [
    {
     "name": "stderr",
     "output_type": "stream",
     "text": [
      "100%|██████████| 20/20 [00:05<00:00,  3.54it/s]\n"
     ]
    }
   ],
   "source": [
    "def evaluate_model(model, data_loader):\n",
    "    y_true = []\n",
    "    y_pred = []\n",
    "    model.eval()\n",
    "    with torch.no_grad():\n",
    "        for images, labels in tqdm(data_loader):\n",
    "            images = images.to(device).float()\n",
    "            outputs = model(images)\n",
    "            _, preds = torch.max(outputs, 1)\n",
    "            y_true.extend(labels.cpu().numpy())\n",
    "            y_pred.extend(preds.cpu().numpy())\n",
    "\n",
    "    accuracy = accuracy_score(y_true, y_pred)\n",
    "    precision = precision_score(y_true, y_pred, average='macro')\n",
    "    recall = recall_score(y_true, y_pred, average='macro')\n",
    "    f1 = f1_score(y_true, y_pred, average='macro')\n",
    "\n",
    "    return accuracy, precision, recall, f1\n",
    "\n",
    "# Evaluar el modelo\n",
    "accuracy, precision, recall, f1 = evaluate_model(model, test_loader)\n"
   ]
  },
  {
   "cell_type": "code",
   "execution_count": 10,
   "metadata": {
    "colab": {
     "base_uri": "https://localhost:8080/"
    },
    "executionInfo": {
     "elapsed": 5,
     "status": "ok",
     "timestamp": 1747600571172,
     "user": {
      "displayName": "Juan Pablo Alianak",
      "userId": "15176005573402506761"
     },
     "user_tz": 180
    },
    "id": "z-Ly9LbJ6Xpy",
    "outputId": "cfe3830d-faf0-4d06-f495-22799eb9c4d8"
   },
   "outputs": [
    {
     "name": "stdout",
     "output_type": "stream",
     "text": [
      "Accuracy: 0.63\n",
      "Precision: 0.62\n",
      "Recall: 0.63\n",
      "F1 score: 0.62\n"
     ]
    }
   ],
   "source": [
    "print(f\"Accuracy: {accuracy:.2f}\")\n",
    "print(f\"Precision: {precision:.2f}\")\n",
    "print(f\"Recall: {recall:.2f}\")\n",
    "print(f\"F1 score: {f1:.2f}\")"
   ]
  },
  {
   "cell_type": "code",
   "execution_count": 11,
   "metadata": {
    "colab": {
     "base_uri": "https://localhost:8080/"
    },
    "executionInfo": {
     "elapsed": 4,
     "status": "ok",
     "timestamp": 1747600576314,
     "user": {
      "displayName": "Juan Pablo Alianak",
      "userId": "15176005573402506761"
     },
     "user_tz": 180
    },
    "id": "NpSCIHeX6Xpy",
    "outputId": "056ef001-579f-4c8e-dae7-c80e4e536e5d"
   },
   "outputs": [
    {
     "data": {
      "text/plain": [
       "(32, 32, 3)"
      ]
     },
     "execution_count": 11,
     "metadata": {},
     "output_type": "execute_result"
    }
   ],
   "source": [
    "train_dataset.data[0].shape"
   ]
  },
  {
   "cell_type": "code",
   "execution_count": 12,
   "metadata": {
    "colab": {
     "base_uri": "https://localhost:8080/",
     "height": 1000
    },
    "executionInfo": {
     "elapsed": 1663,
     "status": "ok",
     "timestamp": 1747600586797,
     "user": {
      "displayName": "Juan Pablo Alianak",
      "userId": "15176005573402506761"
     },
     "user_tz": 180
    },
    "id": "z1CFEDUu6Xpy",
    "outputId": "c0627502-c393-4aa7-9f40-7de8e1694f9f"
   },
   "outputs": [
    {
     "name": "stderr",
     "output_type": "stream",
     "text": [
      "  0%|          | 0/20 [00:00<?, ?it/s]\n"
     ]
    },
    {
     "data": {
      "image/png": "[encoded data removed]",
      "text/plain": [
       "<Figure size 1500x1500 with 16 Axes>"
      ]
     },
     "metadata": {},
     "output_type": "display_data"
    }
   ],
   "source": [
    "\n",
    "def visualize_classification(model, data_loader, class_names, num_images=16):\n",
    "    model.eval()\n",
    "    images_so_far = 0\n",
    "    fig = plt.figure(figsize=(15, 15))\n",
    "\n",
    "    with torch.no_grad():\n",
    "        for i, (inputs, labels) in enumerate(tqdm(data_loader)):\n",
    "            inputs = inputs.to(device)\n",
    "            outputs = model(inputs)\n",
    "            _, preds = torch.max(outputs, 1)\n",
    "\n",
    "            for j in range(inputs.size()[0]):\n",
    "                images_so_far += 1\n",
    "                ax = plt.subplot(num_images // 4, 4, images_so_far)\n",
    "                ax.axis('off')\n",
    "                ax.set_title(f'True: {class_names[labels[j]]}\\nPred: {class_names[preds[j]]}')\n",
    "                img = inputs[j].cpu().numpy().transpose((1, 2, 0))\n",
    "                img = img * [0.229, 0.224, 0.225] + [0.485, 0.456, 0.406]  # Unnormalize\n",
    "                img = np.clip(img, 0, 1)\n",
    "                ax.imshow(img)\n",
    "\n",
    "                if images_so_far == num_images:\n",
    "                    return\n",
    "\n",
    "class_names = ['airplane', 'automobile', 'bird', 'cat', 'deer', 'dog', 'frog', 'horse', 'ship', 'truck']\n",
    "\n",
    "visualize_classification(model, test_loader, class_names, num_images=16)\n",
    "plt.show()\n"
   ]
  }
 ],
 "metadata": {
  "accelerator": "GPU",
  "colab": {
   "gpuType": "T4",
   "provenance": [
    {
     "file_id": "1bYF8HIk4Crp9OiT8NY_zq74GxGoZ_xif",
     "timestamp": 1747599758527
    }
   ]
  },
  "kernelspec": {
   "display_name": "Python 3",
   "name": "python3"
  },
  "language_info": {
   "codemirror_mode": {
    "name": "ipython",
    "version": 3
   },
   "file_extension": ".py",
   "mimetype": "text/x-python",
   "name": "python",
   "nbconvert_exporter": "python",
   "pygments_lexer": "ipython3",
   "version": "3.10.13"
  }
 },
 "nbformat": 4,
 "nbformat_minor": 0
}
